{
 "cells": [
  {
   "cell_type": "markdown",
   "id": "867f4d37-3134-46c5-a3de-856255f9f7b4",
   "metadata": {},
   "source": [
    "# Imports"
   ]
  },
  {
   "cell_type": "code",
   "execution_count": 59,
   "id": "060871c8-6e53-415d-a679-142c6c2cdb88",
   "metadata": {},
   "outputs": [],
   "source": [
    "import os\n",
    "from shutil import copyfile\n",
    "from __future__ import division, print_function\n",
    "from os import listdir\n",
    "from os.path import isfile, join\n",
    "from matplotlib import pyplot as plt\n",
    "import scipy.io.wavfile as wav\n",
    "import torch\n",
    "import torch.nn as nn\n",
    "import torch.nn.functional as F\n",
    "import librosa\n",
    "import soundfile as sf\n",
    "import numpy as np\n",
    "import random\n",
    "import cv2\n",
    "import re\n",
    "import torch\n",
    "import torch.nn as nn\n",
    "import torch.optim as optim\n",
    "from torch.utils.data import Dataset, DataLoader\n",
    "from torchvision import transforms\n",
    "from PIL import Image\n",
    "import matplotlib.image as mpimg"
   ]
  },
  {
   "cell_type": "markdown",
   "id": "7dfaba19-39ab-489c-819e-be93076b94b4",
   "metadata": {},
   "source": [
    "# Converting Recordings to spectograms"
   ]
  },
  {
   "cell_type": "code",
   "execution_count": 2,
   "id": "6d890bf6-9872-475a-aae0-1c89f7eb3592",
   "metadata": {},
   "outputs": [],
   "source": [
    "def wav_to_spectrogram(audio_path, save_path, spectrogram_dimensions=(64, 64), noverlap=16):\n",
    "    \"\"\" Creates a spectrogram of a wav file.\n",
    "\n",
    "    :param audio_path: path of wav file\n",
    "    :param save_path:  path of spectrogram to save\n",
    "    :param spectrogram_dimensions: number of pixels the spectrogram should be. Defaults (64,64)\n",
    "    :param noverlap: See http://docs.scipy.org/doc/scipy/reference/generated/scipy.signal.spectrogram.html\n",
    "    :return:\n",
    "    \"\"\"\n",
    "\n",
    "    sample_rate, samples = wav.read(audio_path)\n",
    "\n",
    "    fig = plt.figure()\n",
    "    fig.set_size_inches((spectrogram_dimensions[0]/fig.get_dpi(), spectrogram_dimensions[1]/fig.get_dpi()))\n",
    "    ax = plt.Axes(fig, [0., 0., 1., 1.])\n",
    "    ax.set_axis_off()\n",
    "    fig.add_axes(ax)\n",
    "    ax.specgram(samples, Fs=2, noverlap=noverlap)\n",
    "    ax.xaxis.set_major_locator(plt.NullLocator())\n",
    "    ax.yaxis.set_major_locator(plt.NullLocator())\n",
    "    fig.savefig(save_path, bbox_inches=\"tight\", pad_inches=0)\n",
    "\n",
    "\n",
    "def dir_to_spectrogram(audio_dir, spectrogram_dir, spectrogram_dimensions=(64, 64), noverlap=16):\n",
    "    \"\"\" Creates spectrograms of all the audio files in a dir\n",
    "\n",
    "    :param audio_dir: path of directory with audio files\n",
    "    :param spectrogram_dir: path to save spectrograms\n",
    "    :param spectrogram_dimensions: tuple specifying the dimensions in pixes of the created spectrogram. default:(64,64)\n",
    "    :param noverlap: See http://docs.scipy.org/doc/scipy/reference/generated/scipy.signal.spectrogram.html\n",
    "    :return:\n",
    "    \"\"\"\n",
    "    file_names = [f for f in listdir(audio_dir) if isfile(join(audio_dir, f)) and '.wav' in f]\n",
    "\n",
    "    for file_name in file_names:\n",
    "        print(file_name)\n",
    "        audio_path = audio_dir + file_name\n",
    "        spectogram_path = spectrogram_dir + file_name.replace('.wav', '.png')\n",
    "        wav_to_spectrogram(audio_path, spectogram_path, spectrogram_dimensions=spectrogram_dimensions, noverlap=noverlap)"
   ]
  },
  {
   "cell_type": "code",
   "execution_count": null,
   "id": "a96a8ccb-f7b5-4be5-acde-1034ca2715d5",
   "metadata": {},
   "outputs": [],
   "source": [
    "audio_dir = \"./recordings/\"\n",
    "spectrogram_dir = \"./No_Augmentation/spectrograms/\"\n",
    "dir_to_spectrogram(audio_dir, spectrogram_dir)"
   ]
  },
  {
   "cell_type": "code",
   "execution_count": null,
   "id": "6a2c28c0-1cee-4575-8af3-28334c64a226",
   "metadata": {},
   "outputs": [],
   "source": [
    "# List of image filenames\n",
    "filenames = [\n",
    "    \"0_george_5.png\",\n",
    "    \"1_george_5.png\",\n",
    "    \"2_george_5.png\",\n",
    "    \"3_george_5.png\"\n",
    "]\n",
    "\n",
    "# Create a subplot with 1 row and 4 columns\n",
    "fig, axes = plt.subplots(1, 4, figsize=(16, 4))\n",
    "\n",
    "for ax, filename in zip(axes, filenames):\n",
    "    # Read the image from the current directory (change path if needed)\n",
    "    img = mpimg.imread(os.path.join(\"./No_Augmentation/spectrograms/\", filename))\n",
    "    ax.imshow(img)\n",
    "    ax.axis('off')\n",
    "    \n",
    "    # Extract the digit (first number in the filename)\n",
    "    digit = filename.split('_')[0]\n",
    "    \n",
    "    # Set the title under the image\n",
    "    ax.set_title(f\"Digit: {digit}\", fontsize=12)\n",
    "\n",
    "plt.tight_layout()\n",
    "plt.show()"
   ]
  },
  {
   "cell_type": "markdown",
   "id": "87c60e1c-fd6e-46e9-97f7-01cd9a4e0e44",
   "metadata": {},
   "source": [
    "# Separating Dataset into Training and Testing Datasets"
   ]
  },
  {
   "cell_type": "code",
   "execution_count": 4,
   "id": "6cdf5b51-dc16-4ea7-a58a-6e980b06dac5",
   "metadata": {},
   "outputs": [],
   "source": [
    "def separate(source, output):\n",
    "    for filename in os.listdir(source):\n",
    "        first_split = filename.rsplit(\"_\", 1)[1]\n",
    "        second_split = first_split.rsplit(\".\", 1)[0]\n",
    "        if int(second_split) <= 4:\n",
    "            copyfile(source + \"/\" + filename, output + \"/test\" + \"/\" + filename)\n",
    "        else:\n",
    "            copyfile(source + \"/\" + filename, output + \"/train\" + \"/\" + filename)"
   ]
  },
  {
   "cell_type": "code",
   "execution_count": 5,
   "id": "78730e63-d15a-4add-a92e-5b0a748c87ac",
   "metadata": {},
   "outputs": [],
   "source": [
    "separate(\"./No_Augmentation/spectrograms\", \"./No_Augmentation\")"
   ]
  },
  {
   "cell_type": "markdown",
   "id": "abd4f82a-5c4b-48d8-8cef-07cedbd9f90f",
   "metadata": {},
   "source": [
    "# Speech augmentation\n",
    "\n",
    "- To Apply Speech Augmentation:\n",
    "    - Create a function that applies the required Speech augmentaion\n",
    "    - Apply this function on the no augmentation records\n",
    "    - After the augmented records are created, convert them into spectorgrams splitted into training and testing data"
   ]
  },
  {
   "cell_type": "code",
   "execution_count": 12,
   "id": "b3df5b17-6a68-4b62-8ac6-4280cf66a416",
   "metadata": {},
   "outputs": [],
   "source": [
    "speed_up_rate = 1.05\n",
    "slow_down_rate = 0.95\n",
    "noise_probability = 0.5\n",
    "noise_level = 0.005\n",
    "\n",
    "def speech_augmentation(input_dir, output_dir):\n",
    "    os.makedirs(output_dir, exist_ok=True)\n",
    "    for filename in os.listdir(input_dir):\n",
    "        if filename.endswith('.wav'):\n",
    "            copyfile(input_dir + \"/\" + filename, output_dir + \"/\" + filename)\n",
    "            filepath = os.path.join(input_dir, filename)\n",
    "            \n",
    "            # Load the audio file (keeping the native sampling rate)\n",
    "            y, sr = librosa.load(filepath, sr=None)\n",
    "            D = librosa.stft(y, n_fft=512)\n",
    "            \n",
    "            # Augmentation 1: Speed up 5%\n",
    "            D_stretched = librosa.phase_vocoder(D, rate=speed_up_rate)\n",
    "            y_fast = librosa.istft(D_stretched)\n",
    "            fast_filename = f\"{os.path.splitext(filename)[0]}_fast.wav\"\n",
    "            sf.write(os.path.join(output_dir, fast_filename), y_fast, sr)\n",
    "            \n",
    "            # Augmentation 2: Slow down 5%\n",
    "            D_stretched = librosa.phase_vocoder(D, rate=slow_down_rate)\n",
    "            y_slow = librosa.istft(D_stretched)\n",
    "            slow_filename = f\"{os.path.splitext(filename)[0]}_slow.wav\"\n",
    "            sf.write(os.path.join(output_dir, slow_filename), y_slow, sr)\n",
    "            \n",
    "            # Augmentation 3: Optionally add noise to the original audio\n",
    "            if random.random() < noise_probability:\n",
    "                # Compute a random noise amplitude relative to the audio's maximum amplitude\n",
    "                noise_amp = noise_level * np.random.uniform() * np.max(np.abs(y))\n",
    "                noise = noise_amp * np.random.normal(size=y.shape)\n",
    "                y_noise = y + noise\n",
    "                noise_filename = f\"{os.path.splitext(filename)[0]}_noise.wav\"\n",
    "                sf.write(os.path.join(output_dir, noise_filename), y_noise, sr)"
   ]
  },
  {
   "cell_type": "code",
   "execution_count": 7,
   "id": "90c37331-157b-44ef-8dcf-1f65f8c27de5",
   "metadata": {},
   "outputs": [],
   "source": [
    "separate(\"./recordings\", \"./Speech_Augmentation/recordings\")"
   ]
  },
  {
   "cell_type": "code",
   "execution_count": 13,
   "id": "670add14-70c2-4fb8-9555-cbfff5a6069a",
   "metadata": {},
   "outputs": [],
   "source": [
    "input_dir = \"./Speech_Augmentation/recordings/train\"\n",
    "output_dir = \"./Speech_Augmentation/augmented_recordings/train\"\n",
    "speech_augmentation(input_dir, output_dir)\n",
    "input_dir = \"./Speech_Augmentation/recordings/test\"\n",
    "output_dir = \"./Speech_Augmentation/augmented_recordings/test\"\n",
    "speech_augmentation(input_dir, output_dir)"
   ]
  },
  {
   "cell_type": "code",
   "execution_count": 15,
   "id": "7b324b0a-8f42-483c-ac85-f6e0482f8971",
   "metadata": {},
   "outputs": [
    {
     "name": "stdout",
     "output_type": "stream",
     "text": [
      "Original duration of 0.643 seconds\n",
      "Fast version duration of 0.624 seconds\n",
      "Slow version duration of 0.688 seconds\n"
     ]
    }
   ],
   "source": [
    "filepath = \"./Speech_Augmentation/augmented_recordings/train/0_george_5.wav\"\n",
    "y, sr = librosa.load(filepath, sr=None)\n",
    "orig_duration = len(y) / sr\n",
    "print(f\"Original duration of {orig_duration:.3f} seconds\")\n",
    "\n",
    "# After speeding up:\n",
    "filepath = \"./Speech_Augmentation/augmented_recordings/train/0_george_5_fast.wav\"\n",
    "y_fast, sr = librosa.load(filepath, sr=None)\n",
    "fast_duration = len(y_fast) / sr\n",
    "print(f\"Fast version duration of {fast_duration:.3f} seconds\")\n",
    "\n",
    "# After slowing down:\n",
    "filepath = \"./Speech_Augmentation/augmented_recordings/train/0_george_5_slow.wav\"\n",
    "y_slow, sr = librosa.load(filepath, sr=None)\n",
    "slow_duration = len(y_slow) / sr\n",
    "print(f\"Slow version duration of {slow_duration:.3f} seconds\")\n"
   ]
  },
  {
   "cell_type": "code",
   "execution_count": null,
   "id": "3e979bca-ac2f-42ff-98ae-d28ef85b6aff",
   "metadata": {
    "scrolled": true
   },
   "outputs": [],
   "source": [
    "audio_dir = \"./Speech_Augmentation/augmented_recordings/train/\"\n",
    "spectrogram_dir = \"./Speech_Augmentation/train/\"\n",
    "dir_to_spectrogram(audio_dir, spectrogram_dir)\n",
    "audio_dir = \"./Speech_Augmentation/augmented_recordings/test/\"\n",
    "spectrogram_dir = \"./Speech_Augmentation/test/\"\n",
    "dir_to_spectrogram(audio_dir, spectrogram_dir)"
   ]
  },
  {
   "cell_type": "markdown",
   "id": "46935d10-0e35-4d10-80a9-6f0eb692e33f",
   "metadata": {},
   "source": [
    "# Spectrum Augmentation\n",
    "\n",
    "- To Apply Specturm Augmentation:\n",
    "    - Create a function that applies the required Spectrum augmentaion\n",
    "    - Apply this function on the spectum images generated from the no augmentation records (Found in No_Augmentation directory)"
   ]
  },
  {
   "cell_type": "code",
   "execution_count": 20,
   "id": "7b154c1e-15d1-4603-b154-d45e26b3cb91",
   "metadata": {},
   "outputs": [],
   "source": [
    "def augment_spectrum_images(input_dir, output_dir,\n",
    "                            noise_probability=0.5, noise_level=0.05):\n",
    "    \"\"\"\n",
    "    Augment spectrum images by horizontally squeezing (5% smaller width),\n",
    "    expanding (5% larger width), and optionally adding noise.\n",
    "\n",
    "    Parameters:\n",
    "    - input_dir: Directory containing original images.\n",
    "    - output_dir: Directory where augmented images will be saved.\n",
    "    - noise_probability: Fraction of images to add noise to.\n",
    "    - noise_level: Standard deviation factor for Gaussian noise (relative to 255).\n",
    "    \"\"\"\n",
    "    os.makedirs(output_dir, exist_ok=True)\n",
    "\n",
    "    # Loop through each image file in the input directory\n",
    "    filenames = os.listdir(input_dir)\n",
    "    for filename in filenames:\n",
    "        if filename.lower().endswith(('.png', '.jpg', '.jpeg')):\n",
    "            copyfile(input_dir + \"/\" + filename, output_dir + \"/\" + filename)\n",
    "            filepath = os.path.join(input_dir, filename)\n",
    "            img = cv2.imread(filepath)\n",
    "            if img is None:\n",
    "                continue  # Skip files that can't be read\n",
    "\n",
    "            height, width, channels = img.shape\n",
    "\n",
    "            # -------------------------\n",
    "            # Augmentation 1: Squeeze Horizontally (reduce width by 5%)\n",
    "            # -------------------------\n",
    "            new_width_squeeze = int(width * 0.95)\n",
    "            squeezed = cv2.resize(img, (new_width_squeeze, height),\n",
    "                                  interpolation=cv2.INTER_LINEAR)\n",
    "            # To maintain the original dimensions, pad horizontally.\n",
    "            pad_left = (width - new_width_squeeze) // 2\n",
    "            pad_right = width - new_width_squeeze - pad_left\n",
    "            squeezed_padded = cv2.copyMakeBorder(squeezed, 0, 0, pad_left, pad_right,\n",
    "                                                 borderType=cv2.BORDER_CONSTANT, value=[0, 0, 0])\n",
    "            squeezed_filename = os.path.splitext(filename)[0] + '_squeezed.png'\n",
    "            cv2.imwrite(os.path.join(output_dir, squeezed_filename), squeezed_padded)\n",
    "\n",
    "            # -------------------------\n",
    "            # Augmentation 2: Expand Horizontally (increase width by 5%)\n",
    "            # -------------------------\n",
    "            new_width_expand = int(width * 1.05)\n",
    "            expanded = cv2.resize(img, (new_width_expand, height),\n",
    "                                  interpolation=cv2.INTER_LINEAR)\n",
    "            # Crop back to the original width (center crop)\n",
    "            crop_left = (new_width_expand - width) // 2\n",
    "            expanded_cropped = expanded[:, crop_left:crop_left+width]\n",
    "            expanded_filename = os.path.splitext(filename)[0] + '_expanded.png'\n",
    "            cv2.imwrite(os.path.join(output_dir, expanded_filename), expanded_cropped)\n",
    "\n",
    "            # -------------------------\n",
    "            # Augmentation 3: Add Noise\n",
    "            # -------------------------\n",
    "            if random.random() < noise_probability:\n",
    "                # Generate Gaussian noise and add it to the image.\n",
    "                # noise_level is relative to the max pixel value (255).\n",
    "                noise = np.random.normal(0, noise_level * 255, img.shape).astype(np.float32)\n",
    "                noisy_img = img.astype(np.float32) + noise\n",
    "                noisy_img = np.clip(noisy_img, 0, 255).astype(np.uint8)\n",
    "                noisy_filename = os.path.splitext(filename)[0] + '_noisy.png'\n",
    "                cv2.imwrite(os.path.join(output_dir, noisy_filename), noisy_img)"
   ]
  },
  {
   "cell_type": "code",
   "execution_count": 21,
   "id": "3a45917b-d9f1-4993-8343-9ed9e1bdb3de",
   "metadata": {},
   "outputs": [],
   "source": [
    "input_dir = \"./No_Augmentation/train\"\n",
    "output_dir = \"./Spectrum_augmentation/train\"\n",
    "augment_spectrum_images(input_dir, output_dir)\n",
    "input_dir = \"./No_Augmentation/test\"\n",
    "output_dir = \"./Spectrum_augmentation/test\"\n",
    "augment_spectrum_images(input_dir, output_dir)"
   ]
  },
  {
   "cell_type": "markdown",
   "id": "0193a98b-9f27-4a01-a6e2-02cf1974356b",
   "metadata": {},
   "source": [
    "# Speech and Spectrum Augmentation\n",
    "\n",
    "- To Apply Speech and Specturm Augmentation:\n",
    "    - Apply the spectrum function on the spectum images generated from the augmented records generated in the speech augmentation part (Found in Speech_Augmentation directory)"
   ]
  },
  {
   "cell_type": "code",
   "execution_count": 24,
   "id": "8ddc8028-0fed-47dc-af24-fd2aafd6c059",
   "metadata": {},
   "outputs": [],
   "source": [
    "input_dir = \"./Speech_Augmentation/train/\"\n",
    "output_dir = \"./Spectrum_Speech_augmentation/train\"\n",
    "augment_spectrum_images(input_dir, output_dir)\n",
    "input_dir = \"./Speech_Augmentation/test/\"\n",
    "output_dir = \"./Spectrum_Speech_augmentation/test\"\n",
    "augment_spectrum_images(input_dir, output_dir)"
   ]
  },
  {
   "cell_type": "markdown",
   "id": "c40f7d92-2b8f-4e2a-8dff-476fadce8a45",
   "metadata": {},
   "source": [
    "# Lenet Model"
   ]
  },
  {
   "cell_type": "code",
   "execution_count": 25,
   "id": "84a6a856-a1b8-4aa3-b201-e7d89a37c88a",
   "metadata": {},
   "outputs": [],
   "source": [
    "class LeNet(nn.Module):\n",
    "    def __init__(self):\n",
    "        super(LeNet, self).__init__()\n",
    "        # Conv1: 6 filters, 5x5, 'same' padding (padding=2 for kernel_size=5)\n",
    "        self.conv1 = nn.Conv2d(in_channels=1, out_channels=6, kernel_size=5, padding=2)\n",
    "        # AvgPool1: 2x2, stride=2\n",
    "        self.pool1 = nn.AvgPool2d(kernel_size=2, stride=2)\n",
    "        \n",
    "        # Conv2: 16 filters, 5x5, 'valid' padding (padding=0)\n",
    "        self.conv2 = nn.Conv2d(in_channels=6, out_channels=16, kernel_size=5, padding=0)\n",
    "        # AvgPool2: 2x2, stride=2\n",
    "        self.pool2 = nn.AvgPool2d(kernel_size=2, stride=2)\n",
    "        \n",
    "        # After the convolution and pooling layers:\n",
    "        # Input image: 28x28 -> after conv1+pool1: 14x14 -> after conv2+pool2: 5x5 (with 16 filters)\n",
    "        # Flatten: 16 * 5 * 5 = 400\n",
    "        self.fc1 = nn.Linear(16 * 5 * 5, 120)\n",
    "        self.fc2 = nn.Linear(120, 84)\n",
    "        # Output layer: 10 classes; no softmax needed when using CrossEntropyLoss\n",
    "        self.fc3 = nn.Linear(84, 10)\n",
    "    \n",
    "    def forward(self, x):\n",
    "        x = F.relu(self.conv1(x))\n",
    "        x = self.pool1(x)\n",
    "        x = F.relu(self.conv2(x))\n",
    "        x = self.pool2(x)\n",
    "        x = x.view(x.size(0), -1)  # Flatten the tensor\n",
    "        x = F.relu(self.fc1(x))\n",
    "        x = F.relu(self.fc2(x))\n",
    "        x = self.fc3(x)  # Logits are returned; softmax is applied in the loss function (nn.CrossEntropyLoss)\n",
    "        return x"
   ]
  },
  {
   "cell_type": "code",
   "execution_count": 27,
   "id": "7355e876-1203-4436-bc91-5db702169f0e",
   "metadata": {},
   "outputs": [],
   "source": [
    "class CustomDataset(Dataset):\n",
    "    def __init__(self, directory, transform=None):\n",
    "        \"\"\"\n",
    "        directory: Path to the directory containing images.\n",
    "        transform: Optional torchvision transforms to apply.\n",
    "        \"\"\"\n",
    "        self.directory = directory\n",
    "        self.transform = transform\n",
    "        # List image file paths (supports .png, .jpg, .jpeg)\n",
    "        self.files = [os.path.join(directory, f) for f in os.listdir(directory)\n",
    "                      if f.lower().endswith(('.png', '.jpg', '.jpeg'))]\n",
    "\n",
    "    def __len__(self):\n",
    "        return len(self.files)\n",
    "    \n",
    "    def __getitem__(self, idx):\n",
    "        img_path = self.files[idx]\n",
    "        # Open image and convert to grayscale (LeNet expects 1 channel)\n",
    "        image = Image.open(img_path).convert('L')\n",
    "        if self.transform:\n",
    "            image = self.transform(image)\n",
    "        else:\n",
    "            # Default transform: resize to 28x28 and convert to tensor\n",
    "            default_transform = transforms.Compose([\n",
    "                transforms.Resize((28, 28)),\n",
    "                transforms.ToTensor()\n",
    "            ])\n",
    "            image = default_transform(image)\n",
    "        \n",
    "        # Extract the label from the filename using regex (e.g., \"0_george_5.png\")\n",
    "        filename = os.path.basename(img_path)\n",
    "        label_match = re.match(r'(\\d+)', filename)\n",
    "        if label_match:\n",
    "            label = int(label_match.group(1))\n",
    "        else:\n",
    "            raise ValueError(f\"Filename {filename} does not start with a numeric label.\")\n",
    "        \n",
    "        return image, label\n"
   ]
  },
  {
   "cell_type": "code",
   "execution_count": 34,
   "id": "cc6075e9-32b6-4ccd-939b-050b814fc645",
   "metadata": {},
   "outputs": [],
   "source": [
    "batch_size = 16\n",
    "num_epochs = 30\n",
    "learning_rate = 0.001"
   ]
  },
  {
   "cell_type": "code",
   "execution_count": 29,
   "id": "3b252df4-78ab-4a60-a50f-3183b8575052",
   "metadata": {},
   "outputs": [
    {
     "name": "stdout",
     "output_type": "stream",
     "text": [
      "Using device: cuda\n"
     ]
    }
   ],
   "source": [
    "device = torch.device(\"cuda\" if torch.cuda.is_available() else \"cpu\")\n",
    "print(\"Using device:\", device)"
   ]
  },
  {
   "cell_type": "code",
   "execution_count": 37,
   "id": "d3e04e2d-9ee6-4a04-abf1-e69a71e77730",
   "metadata": {},
   "outputs": [],
   "source": [
    "def train_and_evaluate(model, train_loader, test_loader, device,\n",
    "                       num_epochs=30, learning_rate=0.001):\n",
    "    \"\"\"\n",
    "    Trains and evaluates the given model using the provided train and test loaders.\n",
    "    \n",
    "    Parameters:\n",
    "      - model: The neural network model to be trained.\n",
    "      - train_loader: DataLoader for the training data.\n",
    "      - test_loader: DataLoader for the testing/validation data.\n",
    "      - device: The torch device (cpu or cuda) to perform training.\n",
    "      - num_epochs: Number of training epochs.\n",
    "      - learning_rate: Learning rate for the optimizer.\n",
    "      \n",
    "    Returns:\n",
    "      - model: The trained model.\n",
    "      - train_acc_list: List of training accuracies per epoch.\n",
    "      - test_acc_list: List of testing accuracies per epoch.\n",
    "    \"\"\"\n",
    "    \n",
    "    model = model.to(device)\n",
    "    criterion = nn.CrossEntropyLoss()\n",
    "    optimizer = optim.Adam(model.parameters(), lr=learning_rate)\n",
    "    \n",
    "    train_acc_list = []\n",
    "    test_acc_list = []\n",
    "    \n",
    "    for epoch in range(num_epochs):\n",
    "        model.train()\n",
    "        running_loss = 0.0\n",
    "        correct_train = 0\n",
    "        total_train = 0\n",
    "        \n",
    "        for images, labels in train_loader:\n",
    "            images = images.to(device)\n",
    "            labels = labels.to(device)\n",
    "            \n",
    "            # Forward pass\n",
    "            outputs = model(images)\n",
    "            loss = criterion(outputs, labels)\n",
    "            \n",
    "            # Backward pass and update\n",
    "            optimizer.zero_grad()\n",
    "            loss.backward()\n",
    "            optimizer.step()\n",
    "            \n",
    "            running_loss += loss.item() * images.size(0)\n",
    "            \n",
    "            # Compute training accuracy on-the-fly\n",
    "            _, predicted = torch.max(outputs, 1)\n",
    "            total_train += labels.size(0)\n",
    "            correct_train += (predicted == labels).sum().item()\n",
    "        \n",
    "        epoch_loss = running_loss / len(train_loader.dataset)\n",
    "        train_accuracy = 100 * correct_train / total_train\n",
    "        train_acc_list.append(train_accuracy)\n",
    "        print(f\"Epoch {epoch+1}/{num_epochs}, Loss: {epoch_loss:.4f}, Train Acc: {train_accuracy:.2f}%\")\n",
    "        \n",
    "        # Evaluation on test data\n",
    "        model.eval()\n",
    "        correct_test = 0\n",
    "        total_test = 0\n",
    "        with torch.no_grad():\n",
    "            for images, labels in test_loader:\n",
    "                images = images.to(device)\n",
    "                labels = labels.to(device)\n",
    "                outputs = model(images)\n",
    "                _, predicted = torch.max(outputs, 1)\n",
    "                total_test += labels.size(0)\n",
    "                correct_test += (predicted == labels).sum().item()\n",
    "                \n",
    "        test_accuracy = 100 * correct_test / total_test\n",
    "        test_acc_list.append(test_accuracy)\n",
    "        print(f\"Test Acc: {test_accuracy:.2f}%\")\n",
    "    \n",
    "    print(\"Training complete.\")\n",
    "    return model, train_acc_list, test_acc_list"
   ]
  },
  {
   "cell_type": "code",
   "execution_count": 38,
   "id": "fe42a7ff-fc0b-456a-beec-6ed469cda494",
   "metadata": {},
   "outputs": [],
   "source": [
    "def plot_accuracies(train_acc, test_acc):\n",
    "    epochs = range(1, len(train_acc) + 1)\n",
    "    plt.figure(figsize=(8, 6))\n",
    "    plt.plot(epochs, train_acc, 'bo-', label='Training Accuracy')\n",
    "    plt.plot(epochs, test_acc, 'ro-', label='Testing Accuracy')\n",
    "    plt.title('Training and Testing Accuracy')\n",
    "    plt.xlabel('Epoch')\n",
    "    plt.ylabel('Accuracy (%)')\n",
    "    plt.legend()\n",
    "    plt.grid(True)\n",
    "    plt.show()"
   ]
  },
  {
   "cell_type": "markdown",
   "id": "e969402f-8b60-4bd3-9340-679742ef5e53",
   "metadata": {},
   "source": [
    "# Part A"
   ]
  },
  {
   "cell_type": "code",
   "execution_count": 39,
   "id": "f4ebad40-e441-43ec-aaf4-a49b02f35dad",
   "metadata": {},
   "outputs": [],
   "source": [
    "# Directories for training and testing\n",
    "train_dir = \"./No_Augmentation/train/\"\n",
    "test_dir = \"./No_Augmentation/test/\"\n",
    "\n",
    "# Define transforms (resizing to 28x28 and converting to tensor)\n",
    "transform = transforms.Compose([\n",
    "    transforms.Resize((28, 28)),  # Resize from 64x64 to 28x28\n",
    "    transforms.ToTensor()\n",
    "])\n",
    "\n",
    "# Create datasets\n",
    "train_dataset = CustomDataset(train_dir, transform=transform)\n",
    "test_dataset  = CustomDataset(test_dir, transform=transform)\n",
    "\n",
    "# Create data loaders for batching\n",
    "train_loader = DataLoader(train_dataset, batch_size=batch_size, shuffle=True)\n",
    "test_loader  = DataLoader(test_dataset, batch_size=batch_size, shuffle=False)\n"
   ]
  },
  {
   "cell_type": "code",
   "execution_count": 40,
   "id": "0bd3add9-d878-4b2f-b78c-1d8db6128c62",
   "metadata": {},
   "outputs": [],
   "source": [
    "model = LeNet().to(device)\n",
    "criterion = nn.CrossEntropyLoss()\n",
    "optimizer = optim.Adam(model.parameters(), lr=learning_rate)"
   ]
  },
  {
   "cell_type": "code",
   "execution_count": 41,
   "id": "90d63395-01e7-4cac-a95f-fd3cb81f154c",
   "metadata": {},
   "outputs": [
    {
     "name": "stdout",
     "output_type": "stream",
     "text": [
      "Epoch 1/30, Loss: 2.1817, Train Acc: 17.70%\n",
      "Test Acc: 38.00%\n",
      "Epoch 2/30, Loss: 1.2943, Train Acc: 50.19%\n",
      "Test Acc: 66.67%\n",
      "Epoch 3/30, Loss: 0.8812, Train Acc: 66.30%\n",
      "Test Acc: 74.67%\n",
      "Epoch 4/30, Loss: 0.7313, Train Acc: 73.37%\n",
      "Test Acc: 73.33%\n",
      "Epoch 5/30, Loss: 0.6077, Train Acc: 77.67%\n",
      "Test Acc: 79.00%\n",
      "Epoch 6/30, Loss: 0.5123, Train Acc: 81.56%\n",
      "Test Acc: 73.33%\n",
      "Epoch 7/30, Loss: 0.4350, Train Acc: 85.44%\n",
      "Test Acc: 89.33%\n",
      "Epoch 8/30, Loss: 0.3732, Train Acc: 88.00%\n",
      "Test Acc: 87.00%\n",
      "Epoch 9/30, Loss: 0.3226, Train Acc: 90.04%\n",
      "Test Acc: 89.67%\n",
      "Epoch 10/30, Loss: 0.2889, Train Acc: 90.48%\n",
      "Test Acc: 89.67%\n",
      "Epoch 11/30, Loss: 0.2546, Train Acc: 91.81%\n",
      "Test Acc: 92.33%\n",
      "Epoch 12/30, Loss: 0.2196, Train Acc: 92.67%\n",
      "Test Acc: 89.00%\n",
      "Epoch 13/30, Loss: 0.1975, Train Acc: 93.26%\n",
      "Test Acc: 92.67%\n",
      "Epoch 14/30, Loss: 0.1760, Train Acc: 94.41%\n",
      "Test Acc: 93.00%\n",
      "Epoch 15/30, Loss: 0.1528, Train Acc: 95.15%\n",
      "Test Acc: 94.33%\n",
      "Epoch 16/30, Loss: 0.1498, Train Acc: 94.89%\n",
      "Test Acc: 92.00%\n",
      "Epoch 17/30, Loss: 0.1338, Train Acc: 95.52%\n",
      "Test Acc: 95.33%\n",
      "Epoch 18/30, Loss: 0.1143, Train Acc: 96.22%\n",
      "Test Acc: 93.33%\n",
      "Epoch 19/30, Loss: 0.1004, Train Acc: 96.85%\n",
      "Test Acc: 95.67%\n",
      "Epoch 20/30, Loss: 0.1074, Train Acc: 96.78%\n",
      "Test Acc: 95.00%\n",
      "Epoch 21/30, Loss: 0.0896, Train Acc: 97.48%\n",
      "Test Acc: 93.00%\n",
      "Epoch 22/30, Loss: 0.0931, Train Acc: 97.00%\n",
      "Test Acc: 94.67%\n",
      "Epoch 23/30, Loss: 0.0826, Train Acc: 97.44%\n",
      "Test Acc: 96.00%\n",
      "Epoch 24/30, Loss: 0.0770, Train Acc: 97.70%\n",
      "Test Acc: 96.33%\n",
      "Epoch 25/30, Loss: 0.0628, Train Acc: 97.81%\n",
      "Test Acc: 95.67%\n",
      "Epoch 26/30, Loss: 0.0645, Train Acc: 97.89%\n",
      "Test Acc: 96.33%\n",
      "Epoch 27/30, Loss: 0.0702, Train Acc: 97.89%\n",
      "Test Acc: 95.33%\n",
      "Epoch 28/30, Loss: 0.0627, Train Acc: 97.74%\n",
      "Test Acc: 95.33%\n",
      "Epoch 29/30, Loss: 0.0637, Train Acc: 97.93%\n",
      "Test Acc: 96.67%\n",
      "Epoch 30/30, Loss: 0.0589, Train Acc: 97.96%\n",
      "Test Acc: 96.67%\n",
      "Training complete.\n"
     ]
    }
   ],
   "source": [
    "trained_model, train_accuracies, test_accuracies = train_and_evaluate(model, train_loader, test_loader, device)"
   ]
  },
  {
   "cell_type": "code",
   "execution_count": 42,
   "id": "f71cc170-cb39-40bc-af77-7758b5f07acf",
   "metadata": {},
   "outputs": [
    {
     "data": {
      "image/png": "[encoded data removed]",
      "text/plain": [
       "<Figure size 800x600 with 1 Axes>"
      ]
     },
     "metadata": {},
     "output_type": "display_data"
    }
   ],
   "source": [
    "plot_accuracies(train_accuracies, test_accuracies)"
   ]
  },
  {
   "cell_type": "markdown",
   "id": "ef91a980-df4e-44e2-9fdb-f6369f4403ce",
   "metadata": {},
   "source": [
    "# Part B"
   ]
  },
  {
   "cell_type": "code",
   "execution_count": 43,
   "id": "a62285ad-7783-4610-9056-c277d2358491",
   "metadata": {},
   "outputs": [],
   "source": [
    "# Directories for training and testing\n",
    "train_dir = \"./Speech_Augmentation/train/\"\n",
    "test_dir = \"./Speech_Augmentation/test/\"\n",
    "\n",
    "# Define transforms (resizing to 28x28 and converting to tensor)\n",
    "transform = transforms.Compose([\n",
    "    transforms.Resize((28, 28)),  # Resize from 64x64 to 28x28\n",
    "    transforms.ToTensor()\n",
    "])\n",
    "\n",
    "# Create datasets\n",
    "train_dataset = CustomDataset(train_dir, transform=transform)\n",
    "test_dataset  = CustomDataset(test_dir, transform=transform)\n",
    "\n",
    "# Create data loaders for batching\n",
    "train_loader = DataLoader(train_dataset, batch_size=batch_size, shuffle=True)\n",
    "test_loader  = DataLoader(test_dataset, batch_size=batch_size, shuffle=False)\n"
   ]
  },
  {
   "cell_type": "code",
   "execution_count": 44,
   "id": "b9989abd-68d1-49de-942b-bdd2bb35f2c7",
   "metadata": {},
   "outputs": [],
   "source": [
    "model = LeNet().to(device)\n",
    "criterion = nn.CrossEntropyLoss()\n",
    "optimizer = optim.Adam(model.parameters(), lr=learning_rate)"
   ]
  },
  {
   "cell_type": "code",
   "execution_count": 45,
   "id": "b7c8350f-3d5f-4a7a-b51e-1a67ef47aee7",
   "metadata": {},
   "outputs": [
    {
     "name": "stdout",
     "output_type": "stream",
     "text": [
      "Epoch 1/30, Loss: 1.2685, Train Acc: 52.85%\n",
      "Test Acc: 74.29%\n",
      "Epoch 2/30, Loss: 0.5652, Train Acc: 80.07%\n",
      "Test Acc: 87.15%\n",
      "Epoch 3/30, Loss: 0.3659, Train Acc: 87.57%\n",
      "Test Acc: 87.15%\n",
      "Epoch 4/30, Loss: 0.2569, Train Acc: 91.21%\n",
      "Test Acc: 93.10%\n",
      "Epoch 5/30, Loss: 0.1720, Train Acc: 94.56%\n",
      "Test Acc: 94.42%\n",
      "Epoch 6/30, Loss: 0.1311, Train Acc: 95.80%\n",
      "Test Acc: 94.99%\n",
      "Epoch 7/30, Loss: 0.1029, Train Acc: 96.63%\n",
      "Test Acc: 94.80%\n",
      "Epoch 8/30, Loss: 0.0892, Train Acc: 97.16%\n",
      "Test Acc: 96.22%\n",
      "Epoch 9/30, Loss: 0.0726, Train Acc: 97.58%\n",
      "Test Acc: 96.98%\n",
      "Epoch 10/30, Loss: 0.0609, Train Acc: 97.90%\n",
      "Test Acc: 96.50%\n",
      "Epoch 11/30, Loss: 0.0528, Train Acc: 98.20%\n",
      "Test Acc: 97.64%\n",
      "Epoch 12/30, Loss: 0.0471, Train Acc: 98.45%\n",
      "Test Acc: 97.07%\n",
      "Epoch 13/30, Loss: 0.0398, Train Acc: 98.79%\n",
      "Test Acc: 96.12%\n",
      "Epoch 14/30, Loss: 0.0329, Train Acc: 98.97%\n",
      "Test Acc: 96.50%\n",
      "Epoch 15/30, Loss: 0.0317, Train Acc: 98.92%\n",
      "Test Acc: 96.12%\n",
      "Epoch 16/30, Loss: 0.0347, Train Acc: 98.80%\n",
      "Test Acc: 96.98%\n",
      "Epoch 17/30, Loss: 0.0186, Train Acc: 99.44%\n",
      "Test Acc: 97.26%\n",
      "Epoch 18/30, Loss: 0.0197, Train Acc: 99.39%\n",
      "Test Acc: 97.26%\n",
      "Epoch 19/30, Loss: 0.0267, Train Acc: 99.25%\n",
      "Test Acc: 97.16%\n",
      "Epoch 20/30, Loss: 0.0263, Train Acc: 99.23%\n",
      "Test Acc: 97.45%\n",
      "Epoch 21/30, Loss: 0.0148, Train Acc: 99.51%\n",
      "Test Acc: 96.69%\n",
      "Epoch 22/30, Loss: 0.0205, Train Acc: 99.25%\n",
      "Test Acc: 97.83%\n",
      "Epoch 23/30, Loss: 0.0129, Train Acc: 99.59%\n",
      "Test Acc: 97.16%\n",
      "Epoch 24/30, Loss: 0.0189, Train Acc: 99.30%\n",
      "Test Acc: 97.07%\n",
      "Epoch 25/30, Loss: 0.0102, Train Acc: 99.71%\n",
      "Test Acc: 96.12%\n",
      "Epoch 26/30, Loss: 0.0231, Train Acc: 99.34%\n",
      "Test Acc: 97.73%\n",
      "Epoch 27/30, Loss: 0.0076, Train Acc: 99.75%\n",
      "Test Acc: 96.79%\n",
      "Epoch 28/30, Loss: 0.0106, Train Acc: 99.64%\n",
      "Test Acc: 95.27%\n",
      "Epoch 29/30, Loss: 0.0184, Train Acc: 99.43%\n",
      "Test Acc: 96.03%\n",
      "Epoch 30/30, Loss: 0.0124, Train Acc: 99.54%\n",
      "Test Acc: 97.45%\n",
      "Training complete.\n"
     ]
    }
   ],
   "source": [
    "trained_model, train_accuracies, test_accuracies = train_and_evaluate(model, train_loader, test_loader, device)"
   ]
  },
  {
   "cell_type": "code",
   "execution_count": 46,
   "id": "a15b89ee-0a0b-48d7-b6dc-5666834cadc9",
   "metadata": {},
   "outputs": [
    {
     "data": {
      "image/png": "[encoded data removed]",
      "text/plain": [
       "<Figure size 800x600 with 1 Axes>"
      ]
     },
     "metadata": {},
     "output_type": "display_data"
    }
   ],
   "source": [
    "plot_accuracies(train_accuracies, test_accuracies)"
   ]
  },
  {
   "cell_type": "markdown",
   "id": "aba947bb-f3c0-479e-9b80-b5e69f30469e",
   "metadata": {},
   "source": [
    "# Part C"
   ]
  },
  {
   "cell_type": "code",
   "execution_count": 48,
   "id": "ea776e0c-7dd7-49a4-9b51-816e1c418bc9",
   "metadata": {},
   "outputs": [],
   "source": [
    "# Directories for training and testing\n",
    "train_dir = \"./Spectrum_augmentation/train/\"\n",
    "test_dir = \"./Spectrum_augmentation/test/\"\n",
    "\n",
    "# Define transforms (resizing to 28x28 and converting to tensor)\n",
    "transform = transforms.Compose([\n",
    "    transforms.Resize((28, 28)),  # Resize from 64x64 to 28x28\n",
    "    transforms.ToTensor()\n",
    "])\n",
    "\n",
    "# Create datasets\n",
    "train_dataset = CustomDataset(train_dir, transform=transform)\n",
    "test_dataset  = CustomDataset(test_dir, transform=transform)\n",
    "\n",
    "# Create data loaders for batching\n",
    "train_loader = DataLoader(train_dataset, batch_size=batch_size, shuffle=True)\n",
    "test_loader  = DataLoader(test_dataset, batch_size=batch_size, shuffle=False)\n"
   ]
  },
  {
   "cell_type": "code",
   "execution_count": 49,
   "id": "ee02c92c-2507-4a9b-8c20-db6f4538af30",
   "metadata": {},
   "outputs": [],
   "source": [
    "model = LeNet().to(device)\n",
    "criterion = nn.CrossEntropyLoss()\n",
    "optimizer = optim.Adam(model.parameters(), lr=learning_rate)"
   ]
  },
  {
   "cell_type": "code",
   "execution_count": 50,
   "id": "1f01d4cc-b7a5-4642-a659-1d54bdbe0937",
   "metadata": {},
   "outputs": [
    {
     "name": "stdout",
     "output_type": "stream",
     "text": [
      "Epoch 1/30, Loss: 1.4477, Train Acc: 44.21%\n",
      "Test Acc: 67.18%\n",
      "Epoch 2/30, Loss: 0.6487, Train Acc: 76.13%\n",
      "Test Acc: 80.77%\n",
      "Epoch 3/30, Loss: 0.3911, Train Acc: 86.63%\n",
      "Test Acc: 89.86%\n",
      "Epoch 4/30, Loss: 0.2625, Train Acc: 91.37%\n",
      "Test Acc: 92.06%\n",
      "Epoch 5/30, Loss: 0.1859, Train Acc: 93.58%\n",
      "Test Acc: 94.93%\n",
      "Epoch 6/30, Loss: 0.1424, Train Acc: 95.39%\n",
      "Test Acc: 93.59%\n",
      "Epoch 7/30, Loss: 0.1081, Train Acc: 96.44%\n",
      "Test Acc: 94.64%\n",
      "Epoch 8/30, Loss: 0.0823, Train Acc: 97.24%\n",
      "Test Acc: 93.97%\n",
      "Epoch 9/30, Loss: 0.0667, Train Acc: 97.89%\n",
      "Test Acc: 96.36%\n",
      "Epoch 10/30, Loss: 0.0513, Train Acc: 98.38%\n",
      "Test Acc: 96.17%\n",
      "Epoch 11/30, Loss: 0.0504, Train Acc: 98.31%\n",
      "Test Acc: 95.89%\n",
      "Epoch 12/30, Loss: 0.0342, Train Acc: 98.91%\n",
      "Test Acc: 95.22%\n",
      "Epoch 13/30, Loss: 0.0320, Train Acc: 98.91%\n",
      "Test Acc: 96.84%\n",
      "Epoch 14/30, Loss: 0.0302, Train Acc: 98.97%\n",
      "Test Acc: 94.07%\n",
      "Epoch 15/30, Loss: 0.0248, Train Acc: 99.20%\n",
      "Test Acc: 96.08%\n",
      "Epoch 16/30, Loss: 0.0221, Train Acc: 99.35%\n",
      "Test Acc: 95.60%\n",
      "Epoch 17/30, Loss: 0.0242, Train Acc: 99.21%\n",
      "Test Acc: 96.27%\n",
      "Epoch 18/30, Loss: 0.0257, Train Acc: 99.01%\n",
      "Test Acc: 96.94%\n",
      "Epoch 19/30, Loss: 0.0055, Train Acc: 99.87%\n",
      "Test Acc: 96.36%\n",
      "Epoch 20/30, Loss: 0.0261, Train Acc: 99.19%\n",
      "Test Acc: 96.08%\n",
      "Epoch 21/30, Loss: 0.0112, Train Acc: 99.62%\n",
      "Test Acc: 96.08%\n",
      "Epoch 22/30, Loss: 0.0203, Train Acc: 99.30%\n",
      "Test Acc: 95.31%\n",
      "Epoch 23/30, Loss: 0.0154, Train Acc: 99.54%\n",
      "Test Acc: 95.89%\n",
      "Epoch 24/30, Loss: 0.0025, Train Acc: 99.96%\n",
      "Test Acc: 96.46%\n",
      "Epoch 25/30, Loss: 0.0248, Train Acc: 99.19%\n",
      "Test Acc: 96.56%\n",
      "Epoch 26/30, Loss: 0.0085, Train Acc: 99.73%\n",
      "Test Acc: 95.69%\n",
      "Epoch 27/30, Loss: 0.0053, Train Acc: 99.82%\n",
      "Test Acc: 93.88%\n",
      "Epoch 28/30, Loss: 0.0107, Train Acc: 99.72%\n",
      "Test Acc: 96.27%\n",
      "Epoch 29/30, Loss: 0.0019, Train Acc: 99.96%\n",
      "Test Acc: 96.94%\n",
      "Epoch 30/30, Loss: 0.0004, Train Acc: 99.99%\n",
      "Test Acc: 97.13%\n",
      "Training complete.\n"
     ]
    }
   ],
   "source": [
    "trained_model, train_accuracies, test_accuracies = train_and_evaluate(model, train_loader, test_loader, device)"
   ]
  },
  {
   "cell_type": "code",
   "execution_count": 51,
   "id": "0e3907cc-1ac5-4a6b-903d-e481f9b575e8",
   "metadata": {},
   "outputs": [
    {
     "data": {
      "image/png": "[encoded data removed]",
      "text/plain": [
       "<Figure size 800x600 with 1 Axes>"
      ]
     },
     "metadata": {},
     "output_type": "display_data"
    }
   ],
   "source": [
    "plot_accuracies(train_accuracies, test_accuracies)"
   ]
  },
  {
   "cell_type": "markdown",
   "id": "a56c1848-11e9-4cbf-b21a-9af2a4683da1",
   "metadata": {},
   "source": [
    "# Part D"
   ]
  },
  {
   "cell_type": "code",
   "execution_count": 54,
   "id": "a088d7d9-3652-4aab-b28c-ef7026b89c8c",
   "metadata": {},
   "outputs": [],
   "source": [
    "# Directories for training and testing\n",
    "train_dir = \"./Spectrum_Speech_augmentation/train/\"\n",
    "test_dir = \"./Spectrum_Speech_augmentation/test/\"\n",
    "\n",
    "# Define transforms (resizing to 28x28 and converting to tensor)\n",
    "transform = transforms.Compose([\n",
    "    transforms.Resize((28, 28)),  # Resize from 64x64 to 28x28\n",
    "    transforms.ToTensor()\n",
    "])\n",
    "\n",
    "# Create datasets\n",
    "train_dataset = CustomDataset(train_dir, transform=transform)\n",
    "test_dataset  = CustomDataset(test_dir, transform=transform)\n",
    "\n",
    "# Create data loaders for batching\n",
    "train_loader = DataLoader(train_dataset, batch_size=batch_size, shuffle=True)\n",
    "test_loader  = DataLoader(test_dataset, batch_size=batch_size, shuffle=False)\n"
   ]
  },
  {
   "cell_type": "code",
   "execution_count": 55,
   "id": "766b0bd0-a846-44e0-be2c-349c3fba6d2d",
   "metadata": {},
   "outputs": [],
   "source": [
    "model = LeNet().to(device)\n",
    "criterion = nn.CrossEntropyLoss()\n",
    "optimizer = optim.Adam(model.parameters(), lr=learning_rate)"
   ]
  },
  {
   "cell_type": "code",
   "execution_count": 56,
   "id": "36d05475-70ab-4e12-a94b-6928ff89bfaa",
   "metadata": {},
   "outputs": [
    {
     "name": "stdout",
     "output_type": "stream",
     "text": [
      "Epoch 1/30, Loss: 0.7976, Train Acc: 70.65%\n",
      "Test Acc: 85.20%\n",
      "Epoch 2/30, Loss: 0.1986, Train Acc: 93.32%\n",
      "Test Acc: 96.16%\n",
      "Epoch 3/30, Loss: 0.0975, Train Acc: 96.94%\n",
      "Test Acc: 95.92%\n",
      "Epoch 4/30, Loss: 0.0620, Train Acc: 97.91%\n",
      "Test Acc: 96.02%\n",
      "Epoch 5/30, Loss: 0.0429, Train Acc: 98.54%\n",
      "Test Acc: 97.10%\n",
      "Epoch 6/30, Loss: 0.0293, Train Acc: 99.10%\n",
      "Test Acc: 94.47%\n",
      "Epoch 7/30, Loss: 0.0223, Train Acc: 99.28%\n",
      "Test Acc: 96.13%\n",
      "Epoch 8/30, Loss: 0.0177, Train Acc: 99.42%\n",
      "Test Acc: 96.21%\n",
      "Epoch 9/30, Loss: 0.0169, Train Acc: 99.45%\n",
      "Test Acc: 97.15%\n",
      "Epoch 10/30, Loss: 0.0143, Train Acc: 99.58%\n",
      "Test Acc: 96.96%\n",
      "Epoch 11/30, Loss: 0.0106, Train Acc: 99.62%\n",
      "Test Acc: 97.05%\n",
      "Epoch 12/30, Loss: 0.0113, Train Acc: 99.67%\n",
      "Test Acc: 97.23%\n",
      "Epoch 13/30, Loss: 0.0110, Train Acc: 99.64%\n",
      "Test Acc: 96.64%\n",
      "Epoch 14/30, Loss: 0.0076, Train Acc: 99.76%\n",
      "Test Acc: 97.13%\n",
      "Epoch 15/30, Loss: 0.0105, Train Acc: 99.71%\n",
      "Test Acc: 96.96%\n",
      "Epoch 16/30, Loss: 0.0081, Train Acc: 99.79%\n",
      "Test Acc: 96.27%\n",
      "Epoch 17/30, Loss: 0.0065, Train Acc: 99.79%\n",
      "Test Acc: 97.42%\n",
      "Epoch 18/30, Loss: 0.0053, Train Acc: 99.84%\n",
      "Test Acc: 97.10%\n",
      "Epoch 19/30, Loss: 0.0072, Train Acc: 99.78%\n",
      "Test Acc: 97.61%\n",
      "Epoch 20/30, Loss: 0.0050, Train Acc: 99.85%\n",
      "Test Acc: 96.51%\n",
      "Epoch 21/30, Loss: 0.0043, Train Acc: 99.88%\n",
      "Test Acc: 96.70%\n",
      "Epoch 22/30, Loss: 0.0064, Train Acc: 99.80%\n",
      "Test Acc: 97.90%\n",
      "Epoch 23/30, Loss: 0.0044, Train Acc: 99.86%\n",
      "Test Acc: 97.77%\n",
      "Epoch 24/30, Loss: 0.0008, Train Acc: 99.98%\n",
      "Test Acc: 98.20%\n",
      "Epoch 25/30, Loss: 0.0000, Train Acc: 100.00%\n",
      "Test Acc: 98.28%\n",
      "Epoch 26/30, Loss: 0.0000, Train Acc: 100.00%\n",
      "Test Acc: 98.33%\n",
      "Epoch 27/30, Loss: 0.0083, Train Acc: 99.79%\n",
      "Test Acc: 97.69%\n",
      "Epoch 28/30, Loss: 0.0006, Train Acc: 99.99%\n",
      "Test Acc: 98.17%\n",
      "Epoch 29/30, Loss: 0.0000, Train Acc: 100.00%\n",
      "Test Acc: 98.17%\n",
      "Epoch 30/30, Loss: 0.0000, Train Acc: 100.00%\n",
      "Test Acc: 98.47%\n",
      "Training complete.\n"
     ]
    }
   ],
   "source": [
    "trained_model, train_accuracies, test_accuracies = train_and_evaluate(model, train_loader, test_loader, device)"
   ]
  },
  {
   "cell_type": "code",
   "execution_count": 57,
   "id": "a419480f-79dd-48ff-9c45-ef833909d55c",
   "metadata": {},
   "outputs": [
    {
     "data": {
      "image/png": "[encoded data removed]",
      "text/plain": [
       "<Figure size 800x600 with 1 Axes>"
      ]
     },
     "metadata": {},
     "output_type": "display_data"
    }
   ],
   "source": [
    "plot_accuracies(train_accuracies, test_accuracies)"
   ]
  },
  {
   "cell_type": "markdown",
   "id": "ca86a64e-97d4-4529-a9c8-a4f905b0bedc",
   "metadata": {},
   "source": [
    "# Observations & Explanations\n",
    "\n",
    "## Observations\n",
    "- Given enough training epochs, all four models achieve high accuracy.\n",
    "- Model in Part B learns faster than the one in Part A: Part B reaches approximately 95% test accuracy within the first 5 epochs, while Part A requires about 17 epochs to reach the same level.\n",
    "- Model in Part C learns at a similar pace as in Part B.\n",
    "- Model in Part D is the fastest, achieving 95% test accuracy within the first 3 epochs.\n",
    "\n",
    "## Explanations\n",
    "- Data augmentation improves the model’s generalization and accelerates learning by exposing it to more varied data. Different shapes, added noise, and speed variations enable the model to recognize the key characteristics and patterns associated with each symbol.\n",
    "- Using a single type of augmentation—either by applying speech augmentation before converting records to spectrograms or by directly manipulating the spectrograms—results in similar performance.\n",
    "- Combining two types of data augmentation (speech augmentation followed by spectrum augmentation) leads to faster learning and, overall, better performance.\n",
    "\n"
   ]
  },
  {
   "cell_type": "code",
   "execution_count": null,
   "id": "9cf83d09-565b-4291-8ae3-de5d66ab276b",
   "metadata": {},
   "outputs": [],
   "source": []
  }
 ],
 "metadata": {
  "kernelspec": {
   "display_name": "Python 3 (ipykernel)",
   "language": "python",
   "name": "python3"
  },
  "language_info": {
   "codemirror_mode": {
    "name": "ipython",
    "version": 3
   },
   "file_extension": ".py",
   "mimetype": "text/x-python",
   "name": "python",
   "nbconvert_exporter": "python",
   "pygments_lexer": "ipython3",
   "version": "3.10.12"
  }
 },
 "nbformat": 4,
 "nbformat_minor": 5
}
